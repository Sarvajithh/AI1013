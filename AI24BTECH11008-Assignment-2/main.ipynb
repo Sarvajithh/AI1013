{
 "cells": [
  {
   "cell_type": "markdown",
   "metadata": {},
   "source": [
    "**Imports**"
   ]
  },
  {
   "cell_type": "code",
   "execution_count": 3,
   "metadata": {},
   "outputs": [],
   "source": [
    "import numpy as np\n",
    "import pandas as pd\n",
    "import matplotlib.pyplot as plt\n",
    "from sklearn.model_selection import train_test_split\n",
    "from scipy.stats import mode\n",
    "from matplotlib.collections import LineCollection\n",
    "import seaborn as sns\n"
   ]
  },
  {
   "cell_type": "markdown",
   "metadata": {},
   "source": [
    "**Part(a)- Neural Networks**"
   ]
  },
  {
   "cell_type": "markdown",
   "metadata": {},
   "source": [
    "*Building dataframe from Dataset*"
   ]
  },
  {
   "cell_type": "code",
   "execution_count": 4,
   "metadata": {},
   "outputs": [
    {
     "data": {
      "text/plain": [
       "array([[ 9.82445982e-01,  1.00600883e+00,  1.00000000e+00],\n",
       "       [ 9.96513925e-01,  9.88683591e-01,  1.00000000e+00],\n",
       "       [-1.92614986e-03,  1.00686804e+00,  1.00000000e+00],\n",
       "       [ 1.00449136e+00,  5.85768139e-03,  1.00000000e+00],\n",
       "       [-1.45363543e-03,  4.65770066e-03,  1.00000000e+00],\n",
       "       [ 1.01868726e+00, -1.41789449e-02,  1.00000000e+00],\n",
       "       [ 9.94812961e-01,  1.00440582e+00,  1.00000000e+00],\n",
       "       [ 9.99376015e-01,  1.00082595e+00,  1.00000000e+00],\n",
       "       [-1.02910614e-03,  9.60880075e-03,  1.00000000e+00],\n",
       "       [ 9.97173716e-01,  1.01784357e+00,  1.00000000e+00],\n",
       "       [ 1.00142426e+00,  1.01588068e+00,  1.00000000e+00],\n",
       "       [ 1.00541231e+00,  1.12644172e-03,  1.00000000e+00],\n",
       "       [ 1.01340099e+00, -1.87469173e-05,  1.00000000e+00],\n",
       "       [ 9.84307439e-01,  1.00631948e+00,  1.00000000e+00],\n",
       "       [-5.10342874e-03,  9.88849600e-01,  1.00000000e+00],\n",
       "       [-4.47771425e-03,  9.85493169e-01,  1.00000000e+00],\n",
       "       [ 1.00937850e+00,  9.95274694e-01,  1.00000000e+00],\n",
       "       [ 9.96433369e-01,  1.01220569e+00,  1.00000000e+00],\n",
       "       [ 9.81048244e-01, -3.31128298e-03,  1.00000000e+00],\n",
       "       [ 1.00087730e+00,  1.50258091e-02,  1.00000000e+00],\n",
       "       [ 9.99663108e-01,  9.72118871e-01,  1.00000000e+00],\n",
       "       [ 1.00179752e+00, -1.58720643e-02,  1.00000000e+00],\n",
       "       [ 9.89598371e-01, -1.23688733e-03,  1.00000000e+00],\n",
       "       [ 1.01719035e+00,  8.88194541e-03,  1.00000000e+00],\n",
       "       [ 9.96761402e-01,  9.99303769e-01,  1.00000000e+00],\n",
       "       [ 9.98117031e-01,  9.99043473e-01,  1.00000000e+00],\n",
       "       [ 9.90999914e-01,  9.98782585e-01,  1.00000000e+00],\n",
       "       [ 9.90689980e-01, -1.76289773e-02,  1.00000000e+00],\n",
       "       [ 9.87772630e-01,  1.01158069e+00,  1.00000000e+00],\n",
       "       [-3.93310852e-03,  9.93172353e-01,  1.00000000e+00],\n",
       "       [-9.57581839e-03,  1.08953266e-02,  1.00000000e+00],\n",
       "       [ 1.02056467e+00, -7.05234180e-04,  1.00000000e+00],\n",
       "       [ 9.81115076e-01,  1.06816039e-02,  1.00000000e+00],\n",
       "       [ 9.88716695e-01,  3.43257981e-03,  1.00000000e+00],\n",
       "       [-4.01414428e-03, -1.06674491e-03,  1.00000000e+00],\n",
       "       [ 6.73491278e-03,  2.26261647e-03,  1.00000000e+00],\n",
       "       [ 9.95862431e-01,  9.85270224e-01,  1.00000000e+00],\n",
       "       [ 6.75963393e-03,  6.02932717e-05,  1.00000000e+00],\n",
       "       [-9.86803889e-03,  1.01716040e+00,  1.00000000e+00],\n",
       "       [ 5.92911339e-04,  1.01308194e+00,  1.00000000e+00],\n",
       "       [ 1.74404109e-02,  9.90149764e-01,  1.00000000e+00],\n",
       "       [ 9.90322556e-01,  1.00505686e+00,  1.00000000e+00],\n",
       "       [ 4.19567676e-03,  2.47979885e-03,  1.00000000e+00],\n",
       "       [ 2.06927519e-03,  1.00817188e+00,  1.00000000e+00],\n",
       "       [-2.25153499e-02,  1.00094153e+00,  1.00000000e+00],\n",
       "       [-5.88970546e-03, -2.33503993e-03,  1.00000000e+00],\n",
       "       [ 1.01131152e+00,  1.01330631e+00,  1.00000000e+00],\n",
       "       [ 1.35077672e-03,  2.16396568e-03,  1.00000000e+00],\n",
       "       [ 9.87877310e-01,  1.25546432e-02,  1.00000000e+00],\n",
       "       [ 6.90777273e-03,  1.00974386e+00,  1.00000000e+00],\n",
       "       [ 9.95208771e-01, -3.24487242e-03,  1.00000000e+00],\n",
       "       [ 3.60050728e-03, -1.67000274e-03,  1.00000000e+00],\n",
       "       [ 3.76920114e-03,  1.92983243e-02,  1.00000000e+00],\n",
       "       [-1.11869560e-02,  1.91482325e-03,  1.00000000e+00],\n",
       "       [ 7.89828035e-03, -7.58628423e-03,  1.00000000e+00],\n",
       "       [ 9.89924912e-01,  9.87999567e-01,  1.00000000e+00],\n",
       "       [ 9.86942141e-01,  1.00974132e+00,  1.00000000e+00],\n",
       "       [-8.82828988e-03,  1.60293721e-03,  1.00000000e+00],\n",
       "       [ 9.96539100e-01,  9.92079080e-01,  1.00000000e+00],\n",
       "       [ 1.09403156e-03,  6.74584831e-03,  1.00000000e+00],\n",
       "       [ 9.92274163e-01,  1.00159749e+00,  1.00000000e+00],\n",
       "       [ 7.44819312e-03,  9.83395249e-01,  1.00000000e+00],\n",
       "       [ 1.00251464e+00,  1.00588686e+00,  1.00000000e+00],\n",
       "       [ 9.93052018e-01,  1.01333191e+00,  1.00000000e+00],\n",
       "       [ 1.00888993e+00,  1.02559850e+00,  1.00000000e+00],\n",
       "       [ 1.16106836e-02,  3.49025641e-04,  1.00000000e+00],\n",
       "       [ 9.99013153e-01,  2.32649658e-03,  1.00000000e+00],\n",
       "       [-2.14983045e-03,  1.01606597e+00,  1.00000000e+00],\n",
       "       [-1.77377135e-02,  1.68722267e-03,  1.00000000e+00],\n",
       "       [-4.07512592e-03,  2.75341863e-03,  1.00000000e+00],\n",
       "       [-2.91506713e-03,  9.93693816e-01,  1.00000000e+00],\n",
       "       [ 1.00245379e+00, -1.39437511e-02,  1.00000000e+00],\n",
       "       [ 9.98315736e-01,  9.12687936e-03,  1.00000000e+00],\n",
       "       [ 1.00244027e+00,  9.87264298e-01,  1.00000000e+00],\n",
       "       [ 1.53409029e-02,  1.01140656e+00,  1.00000000e+00],\n",
       "       [-5.29914099e-03,  9.92118344e-01,  1.00000000e+00],\n",
       "       [-4.90972283e-03,  2.65233958e-03,  1.00000000e+00],\n",
       "       [ 9.86908347e-01, -3.72271731e-03,  1.00000000e+00],\n",
       "       [ 9.99913395e-01,  1.01174600e+00,  1.00000000e+00],\n",
       "       [ 1.00976813e+00,  3.00846402e-03,  1.00000000e+00],\n",
       "       [-1.75107035e-02,  1.01959095e+00,  1.00000000e+00],\n",
       "       [-6.65856967e-03, -1.08367768e-02,  1.00000000e+00],\n",
       "       [ 3.59405025e-04,  4.13863082e-03,  1.00000000e+00],\n",
       "       [ 8.50102884e-03,  4.73418809e-04,  1.00000000e+00],\n",
       "       [ 1.00382870e+00,  1.00279944e+00,  1.00000000e+00],\n",
       "       [ 3.25463628e-03,  1.01595921e+00,  1.00000000e+00],\n",
       "       [ 9.97756872e-01,  1.00585318e+00,  1.00000000e+00],\n",
       "       [ 1.00481874e+00,  9.88524746e-01,  1.00000000e+00],\n",
       "       [ 1.01430388e-02,  5.33510818e-03,  1.00000000e+00],\n",
       "       [ 9.82910082e-01,  9.95843806e-01,  1.00000000e+00],\n",
       "       [ 7.28535401e-03, -4.73354970e-03,  1.00000000e+00],\n",
       "       [-9.87598059e-04,  1.01045857e+00,  1.00000000e+00],\n",
       "       [ 9.94700111e-01, -6.02339983e-03,  1.00000000e+00],\n",
       "       [-2.44307579e-02, -3.79730328e-03,  1.00000000e+00],\n",
       "       [-1.38035132e-02,  3.24072544e-04,  1.00000000e+00],\n",
       "       [ 1.69805899e-02,  1.00946186e+00,  1.00000000e+00],\n",
       "       [ 9.93114515e-01,  5.81589803e-03,  1.00000000e+00],\n",
       "       [-1.08476877e-02,  9.97655851e-01,  1.00000000e+00],\n",
       "       [-4.56425956e-03,  9.97278235e-01,  1.00000000e+00],\n",
       "       [-7.45147222e-03,  9.88398703e-01,  1.00000000e+00],\n",
       "       [ 1.24358633e-03, -7.59835089e-03,  1.00000000e+00],\n",
       "       [ 1.51697368e-02, -6.54381086e-03,  1.00000000e+00],\n",
       "       [ 9.94133840e-01,  9.98507091e-01,  1.00000000e+00],\n",
       "       [ 1.00154290e+00,  1.98676304e-02,  1.00000000e+00],\n",
       "       [-1.14723714e-02,  9.93245306e-01,  1.00000000e+00],\n",
       "       [ 1.52016644e-02, -2.95829068e-03,  1.00000000e+00],\n",
       "       [ 1.00189043e+00,  9.79476016e-01,  1.00000000e+00],\n",
       "       [ 9.89181809e-01,  1.00600571e+00,  1.00000000e+00],\n",
       "       [ 1.00904306e+00,  9.84225512e-01,  1.00000000e+00],\n",
       "       [ 1.01199988e+00,  9.90934105e-01,  1.00000000e+00],\n",
       "       [ 1.00161456e+00,  1.04233537e-02,  1.00000000e+00],\n",
       "       [ 9.83606030e-01,  9.78950716e-01,  1.00000000e+00],\n",
       "       [ 1.78516881e-02,  9.59204124e-04,  1.00000000e+00],\n",
       "       [ 3.10122521e-03,  8.00929647e-03,  1.00000000e+00],\n",
       "       [ 1.01170454e+00,  1.52544424e-02,  1.00000000e+00],\n",
       "       [-5.50893205e-03,  9.90799069e-01,  1.00000000e+00],\n",
       "       [ 9.96013761e-01, -6.24024850e-03,  1.00000000e+00],\n",
       "       [ 1.00110453e+00,  1.01804436e+00,  1.00000000e+00],\n",
       "       [ 1.11340168e-02, -2.50601446e-04,  1.00000000e+00],\n",
       "       [ 1.00142990e+00,  9.92637361e-01,  1.00000000e+00],\n",
       "       [-1.25683381e-02,  9.92825142e-01,  1.00000000e+00],\n",
       "       [ 1.00261989e+00, -9.72556324e-03,  1.00000000e+00],\n",
       "       [ 1.62953419e-02, -4.39672205e-03,  1.00000000e+00],\n",
       "       [ 6.58062825e-04,  1.01088220e+00,  1.00000000e+00],\n",
       "       [ 1.00129386e+00,  8.87766069e-03,  1.00000000e+00],\n",
       "       [ 9.87374563e-01, -1.17427030e-02,  1.00000000e+00],\n",
       "       [ 9.85970109e-01,  1.00214586e+00,  1.00000000e+00],\n",
       "       [-6.37692139e-03,  9.95978403e-01,  1.00000000e+00],\n",
       "       [-3.26517647e-03,  1.00782440e+00,  1.00000000e+00],\n",
       "       [ 1.00104061e+00,  9.98436403e-01,  1.00000000e+00],\n",
       "       [ 1.00165957e+00,  1.00371525e+00,  1.00000000e+00],\n",
       "       [ 1.01601908e+00, -1.58605207e-03,  1.00000000e+00],\n",
       "       [ 5.86874384e-04, -2.18708593e-02,  1.00000000e+00],\n",
       "       [ 1.06442269e-02,  1.00047002e+00,  1.00000000e+00],\n",
       "       [ 9.99606707e-01,  9.87282531e-01,  1.00000000e+00],\n",
       "       [ 1.01448904e+00,  1.00747128e+00,  1.00000000e+00],\n",
       "       [ 9.81296025e-01, -6.79827892e-03,  1.00000000e+00],\n",
       "       [ 9.94012682e-01,  9.93949873e-01,  1.00000000e+00],\n",
       "       [ 1.00983033e+00, -8.90282501e-05,  1.00000000e+00],\n",
       "       [-1.71596005e-03,  1.00577794e+00,  1.00000000e+00],\n",
       "       [ 1.00931530e+00,  9.98302562e-01,  1.00000000e+00],\n",
       "       [ 3.85066103e-03,  1.64218277e-02,  1.00000000e+00],\n",
       "       [ 9.45876984e-03,  1.64881786e-02,  1.00000000e+00],\n",
       "       [ 6.13067728e-03,  1.71546859e-02,  1.00000000e+00],\n",
       "       [ 1.00673649e+00, -2.34318725e-03,  1.00000000e+00],\n",
       "       [ 1.49245539e-02, -1.48195846e-02,  1.00000000e+00],\n",
       "       [ 1.00986474e+00,  1.01220079e+00,  1.00000000e+00],\n",
       "       [ 1.00993807e+00, -4.16345285e-03,  1.00000000e+00],\n",
       "       [ 1.00020419e+00,  3.81663120e-04,  1.00000000e+00],\n",
       "       [-5.81850210e-03,  1.00628320e+00,  1.00000000e+00],\n",
       "       [-6.59560088e-03, -1.60443640e-02,  1.00000000e+00],\n",
       "       [ 7.50944597e-03,  1.62912121e-02,  1.00000000e+00],\n",
       "       [ 9.75615394e-01,  8.74962329e-03,  1.00000000e+00],\n",
       "       [-1.30717819e-02,  3.52271582e-03,  1.00000000e+00],\n",
       "       [ 9.90367463e-01,  1.00890917e+00,  1.00000000e+00],\n",
       "       [ 9.97523786e-01,  1.00556953e+00,  1.00000000e+00],\n",
       "       [-2.63143804e-02,  1.00116828e+00,  1.00000000e+00],\n",
       "       [ 1.01258721e+00,  9.96922257e-01,  1.00000000e+00],\n",
       "       [ 6.00175236e-03, -7.39142274e-03,  1.00000000e+00],\n",
       "       [ 1.98458240e-02,  2.87214281e-03,  1.00000000e+00],\n",
       "       [ 1.06221447e-02,  3.61203060e-03,  1.00000000e+00],\n",
       "       [ 1.03037933e-02,  1.01083199e+00,  1.00000000e+00],\n",
       "       [ 2.25067603e-02,  1.00200660e+00,  1.00000000e+00],\n",
       "       [-5.70958087e-03, -8.53201516e-03,  1.00000000e+00],\n",
       "       [ 9.84965416e-01,  9.84237672e-01,  1.00000000e+00],\n",
       "       [ 9.97676426e-01, -1.27562162e-03,  1.00000000e+00],\n",
       "       [-8.24992054e-03, -2.74583767e-04,  1.00000000e+00],\n",
       "       [ 9.97431546e-01, -9.80915828e-04,  1.00000000e+00],\n",
       "       [ 9.89497810e-01, -1.53051290e-02,  1.00000000e+00],\n",
       "       [ 1.00567880e+00,  1.01074465e+00,  1.00000000e+00],\n",
       "       [ 1.00512983e+00,  1.07262975e-02,  1.00000000e+00],\n",
       "       [ 9.99730774e-01, -8.23285165e-03,  1.00000000e+00],\n",
       "       [ 3.11581503e-03,  8.05982112e-03,  1.00000000e+00],\n",
       "       [-1.42050727e-03,  9.52830862e-03,  1.00000000e+00],\n",
       "       [ 1.00752034e+00,  3.84470766e-04,  1.00000000e+00],\n",
       "       [ 6.96407495e-04,  9.90515014e-01,  1.00000000e+00],\n",
       "       [-2.65445625e-03,  1.01613382e+00,  1.00000000e+00],\n",
       "       [ 1.00929584e+00,  3.80921434e-03,  1.00000000e+00],\n",
       "       [ 1.01260821e+00, -2.51037455e-03,  1.00000000e+00],\n",
       "       [ 1.33745383e-02,  7.72845396e-03,  1.00000000e+00],\n",
       "       [-9.90274689e-03,  1.62220849e-02,  1.00000000e+00],\n",
       "       [ 9.94655528e-01,  9.95028399e-01,  1.00000000e+00],\n",
       "       [ 9.82985039e-01,  1.00691423e+00,  1.00000000e+00],\n",
       "       [ 9.97614350e-01,  1.94316017e-02,  1.00000000e+00],\n",
       "       [ 1.00416124e+00,  9.88834352e-01,  1.00000000e+00],\n",
       "       [ 9.98671988e-01, -5.49253589e-03,  1.00000000e+00],\n",
       "       [ 1.93085087e-02, -5.97855081e-03,  1.00000000e+00],\n",
       "       [-4.05843375e-03, -1.58327137e-03,  1.00000000e+00],\n",
       "       [-1.08850856e-02,  9.97900263e-01,  1.00000000e+00],\n",
       "       [ 1.00568504e+00,  3.00795439e-03,  1.00000000e+00],\n",
       "       [ 1.00149934e+00,  9.91796245e-01,  1.00000000e+00],\n",
       "       [ 1.00549643e+00, -6.22663489e-03,  1.00000000e+00],\n",
       "       [ 1.00303788e+00,  1.00301290e+00,  1.00000000e+00],\n",
       "       [ 1.00243766e+00,  1.54911860e-03,  1.00000000e+00],\n",
       "       [ 9.78777011e-01,  8.74079809e-03,  1.00000000e+00],\n",
       "       [ 9.92738860e-01,  1.00409355e+00,  1.00000000e+00],\n",
       "       [-5.90324918e-03,  1.00771847e+00,  1.00000000e+00],\n",
       "       [-3.47964338e-03, -1.14295204e-02,  1.00000000e+00],\n",
       "       [-4.48391638e-03,  9.96165837e-01,  1.00000000e+00],\n",
       "       [ 1.00412819e+00,  1.84837995e-02,  1.00000000e+00]])"
      ]
     },
     "execution_count": 4,
     "metadata": {},
     "output_type": "execute_result"
    }
   ],
   "source": [
    "# Initialising dataframe from .csv file\n",
    "df = pd.read_csv(\"data_Q1.csv\")\n",
    "\n",
    "# Converting into numpy arrays\n",
    "training_x1 = df.iloc[:, 0].to_numpy()\n",
    "training_x2 = df.iloc[:, 1].to_numpy()\n",
    "training_y = df.iloc[:, 2].to_numpy()\n",
    "\n",
    "# Calculating the length of the set\n",
    "N = len(training_x1)\n",
    "\n",
    "# Forming a N x 3 matrix \n",
    "training_x = np.array([[x1, x2, 1] for x1, x2 in zip(training_x1, training_x2)])\n",
    "training_x"
   ]
  },
  {
   "cell_type": "markdown",
   "metadata": {},
   "source": [
    "*Initializing the parameters*"
   ]
  },
  {
   "cell_type": "code",
   "execution_count": 5,
   "metadata": {},
   "outputs": [
    {
     "name": "stdout",
     "output_type": "stream",
     "text": [
      "[[ 0.39293837 -0.42772133 -0.54629709]\n",
      " [ 0.10262954  0.43893794 -0.15378708]\n",
      " [ 0.9615284   0.36965948 -0.0381362 ]]\n",
      "[[-0.21576496]\n",
      " [-0.31364397]\n",
      " [ 0.45809941]\n",
      " [-0.12285551]]\n"
     ]
    }
   ],
   "source": [
    "# Initialising a seed \n",
    "np.random.seed(123)\n",
    "\n",
    "# Activating function \n",
    "def sigmoid(x): return 1 / (1 + np.exp(-x))\n",
    "\n",
    "def grad_sigmoid(x): return sigmoid(x) * (1 - sigmoid(x))\n",
    "\n",
    "# Initialising the random weights in the range of [-1, 1].\n",
    "weights1 = np.random.uniform(-1, 1, (3, 3))\n",
    "weights2 = np.random.uniform(-1, 1, (4, 1))\n",
    "\n",
    "# Learning Rate\n",
    "learning_rate = 0.05\n",
    "\n",
    "# Number of iterations\n",
    "max_epochs = 100\n",
    "\n",
    "# Initialising the list to store the loss function values.\n",
    "training_error = []\n",
    "print(weights1)\n",
    "print(weights2)"
   ]
  },
  {
   "cell_type": "markdown",
   "metadata": {},
   "source": [
    "*Training*"
   ]
  },
  {
   "cell_type": "markdown",
   "metadata": {
    "vscode": {
     "languageId": "latex"
    }
   },
   "source": [
    "**Forward Propagation** \n",
    "\n",
    "Step 1: Multiply input $X$ with first weight matrix $W^{(1)}$.\n",
    "\n",
    "#### **Mathematical Calculation:**\n",
    "\n",
    "$$H = X W^{(1)}$$\n",
    "\n",
    "where:  \n",
    "- $X$ is the **input matrix** (size: $ N \\times 3 $, includes bias).  \n",
    "- $W^{(1)}$  is the **weight matrix from input → hidden layer** (size: $3 \\times 3$ ).  \n",
    "-  H  is the **hidden layer pre-activation output** (size:  $N \\times 3$ ). \n",
    "\n",
    "Step 2: Apply activation (sigmoid) to get hidden layer output $Z$.\n",
    "\n",
    "Step 3: Multiply $Z$ with second weight matrix $W^{(2)}$.\n",
    "\n",
    "#### **Mathematical Calculation:**\n",
    "$$\n",
    "O = Z' W^{(2)}\n",
    "$$\n",
    "\n",
    "where:  \n",
    "- $ W^{(2)} $ is the **weight matrix from hidden → output layer** (size: $ 4 \\times 1 $).  \n",
    "- $ O $ is the **output layer pre-activation output** (size: $ N \\times 1 $). \n",
    "\n",
    "Step 4: Apply activation (sigmoid) to get final predicted output $\\hat{y}$\n",
    "\n"
   ]
  },
  {
   "cell_type": "code",
   "execution_count": 6,
   "metadata": {},
   "outputs": [
    {
     "name": "stdout",
     "output_type": "stream",
     "text": [
      "[[ 0.39163632 -0.43043915 -0.54238854]\n",
      " [ 0.10191988  0.44092667 -0.15308498]\n",
      " [ 0.96088692  0.36888644 -0.03549293]]\n",
      "[[-0.19871811]\n",
      " [-0.307211  ]\n",
      " [ 0.46389241]\n",
      " [-0.10271182]]\n"
     ]
    }
   ],
   "source": [
    "for epoch in range(max_epochs):\n",
    "    \n",
    "    # Forward pass : Passess the data from the input layer to hidden layer\n",
    "    \n",
    "    # Formation of the hidden layer from the dot product of input data and weight matrix\n",
    "    H = training_x @ weights1 \n",
    "    \n",
    "    # Activation function .i.e normalises to 1\n",
    "    Z = sigmoid(H) \n",
    "\n",
    "    # Appending the bias\n",
    "    Z = np.hstack((Z, np.ones((N, 1))))  \n",
    "    \n",
    "    # Output layer \n",
    "    O = Z @ weights2\n",
    "    \n",
    "    # Activating Sigmoid for O \n",
    "    y_hat = sigmoid(O)\n",
    "    \n",
    "    # Calculating the loss \n",
    "    loss = np.mean((training_y - y_hat.flatten())**2) / 2\n",
    "    \n",
    "    # Appending the loss \n",
    "    training_error.append(loss)\n",
    "\n",
    "    # Backpropagation\n",
    "    temp = -(training_y - y_hat.flatten()) * grad_sigmoid(O).flatten()\n",
    "    \n",
    "    gradient2 = Z.T @ temp.reshape(-1, 1) / N\n",
    "    \n",
    "    temp = temp[:, None] * grad_sigmoid(H) @ np.diag(weights2[:-1].flatten())\n",
    "    \n",
    "    gradient1 = training_x.T @ temp / N\n",
    "    \n",
    "    # Updating the graidents\n",
    "    weights2 -= learning_rate * gradient2\n",
    "    weights1 -= learning_rate * gradient1\n",
    "\n",
    "print(weights1)\n",
    "print(weights2)"
   ]
  },
  {
   "cell_type": "markdown",
   "metadata": {},
   "source": [
    "*Plot*"
   ]
  },
  {
   "cell_type": "code",
   "execution_count": 7,
   "metadata": {},
   "outputs": [
    {
     "data": {
      "image/png": "[encoded data removed]",
      "text/plain": [
       "<Figure size 640x480 with 1 Axes>"
      ]
     },
     "metadata": {},
     "output_type": "display_data"
    }
   ],
   "source": [
    "plt.plot(range(max_epochs), training_error, '-o', color= 'red')\n",
    "plt.xlabel(\"Epochs\")\n",
    "plt.ylabel(\"Training Loss\")\n",
    "plt.title(\"Neural Network Training Loss\")\n",
    "plt.show()"
   ]
  },
  {
   "cell_type": "markdown",
   "metadata": {},
   "source": [
    "**Part(b) - kNN**"
   ]
  },
  {
   "cell_type": "markdown",
   "metadata": {},
   "source": [
    "*Build dataframe*"
   ]
  },
  {
   "cell_type": "code",
   "execution_count": 8,
   "metadata": {},
   "outputs": [
    {
     "data": {
      "text/html": [
       "<div>\n",
       "<style scoped>\n",
       "    .dataframe tbody tr th:only-of-type {\n",
       "        vertical-align: middle;\n",
       "    }\n",
       "\n",
       "    .dataframe tbody tr th {\n",
       "        vertical-align: top;\n",
       "    }\n",
       "\n",
       "    .dataframe thead th {\n",
       "        text-align: right;\n",
       "    }\n",
       "</style>\n",
       "<table border=\"1\" class=\"dataframe\">\n",
       "  <thead>\n",
       "    <tr style=\"text-align: right;\">\n",
       "      <th></th>\n",
       "      <th>Length</th>\n",
       "      <th>Diameter</th>\n",
       "      <th>Height</th>\n",
       "      <th>Whole weight</th>\n",
       "      <th>Shucked weight</th>\n",
       "      <th>Viscera weight</th>\n",
       "      <th>Shell weight</th>\n",
       "      <th>Rings</th>\n",
       "    </tr>\n",
       "  </thead>\n",
       "  <tbody>\n",
       "    <tr>\n",
       "      <th>0</th>\n",
       "      <td>0.455</td>\n",
       "      <td>0.365</td>\n",
       "      <td>0.095</td>\n",
       "      <td>0.5140</td>\n",
       "      <td>0.2245</td>\n",
       "      <td>0.1010</td>\n",
       "      <td>0.150</td>\n",
       "      <td>15</td>\n",
       "    </tr>\n",
       "    <tr>\n",
       "      <th>1</th>\n",
       "      <td>0.350</td>\n",
       "      <td>0.265</td>\n",
       "      <td>0.090</td>\n",
       "      <td>0.2255</td>\n",
       "      <td>0.0995</td>\n",
       "      <td>0.0485</td>\n",
       "      <td>0.070</td>\n",
       "      <td>7</td>\n",
       "    </tr>\n",
       "    <tr>\n",
       "      <th>2</th>\n",
       "      <td>0.530</td>\n",
       "      <td>0.420</td>\n",
       "      <td>0.135</td>\n",
       "      <td>0.6770</td>\n",
       "      <td>0.2565</td>\n",
       "      <td>0.1415</td>\n",
       "      <td>0.210</td>\n",
       "      <td>9</td>\n",
       "    </tr>\n",
       "    <tr>\n",
       "      <th>3</th>\n",
       "      <td>0.440</td>\n",
       "      <td>0.365</td>\n",
       "      <td>0.125</td>\n",
       "      <td>0.5160</td>\n",
       "      <td>0.2155</td>\n",
       "      <td>0.1140</td>\n",
       "      <td>0.155</td>\n",
       "      <td>10</td>\n",
       "    </tr>\n",
       "    <tr>\n",
       "      <th>4</th>\n",
       "      <td>0.330</td>\n",
       "      <td>0.255</td>\n",
       "      <td>0.080</td>\n",
       "      <td>0.2050</td>\n",
       "      <td>0.0895</td>\n",
       "      <td>0.0395</td>\n",
       "      <td>0.055</td>\n",
       "      <td>7</td>\n",
       "    </tr>\n",
       "  </tbody>\n",
       "</table>\n",
       "</div>"
      ],
      "text/plain": [
       "   Length  Diameter  Height  Whole weight  Shucked weight  Viscera weight  \\\n",
       "0   0.455     0.365   0.095        0.5140          0.2245          0.1010   \n",
       "1   0.350     0.265   0.090        0.2255          0.0995          0.0485   \n",
       "2   0.530     0.420   0.135        0.6770          0.2565          0.1415   \n",
       "3   0.440     0.365   0.125        0.5160          0.2155          0.1140   \n",
       "4   0.330     0.255   0.080        0.2050          0.0895          0.0395   \n",
       "\n",
       "   Shell weight  Rings  \n",
       "0         0.150     15  \n",
       "1         0.070      7  \n",
       "2         0.210      9  \n",
       "3         0.155     10  \n",
       "4         0.055      7  "
      ]
     },
     "execution_count": 8,
     "metadata": {},
     "output_type": "execute_result"
    }
   ],
   "source": [
    "# Loading the data from URL\n",
    "url = \"https://archive.ics.uci.edu/ml/machine-learning-databases/abalone/abalone.data\"\n",
    "\n",
    "# Initialising the column names for the data frame.\n",
    "column_names = [\"Sex\", \"Length\", \"Diameter\", \"Height\", \"Whole weight\", \"Shucked weight\", \"Viscera weight\", \"Shell weight\", \"Rings\"]\n",
    "\n",
    "# Initialising the Dataframe.\n",
    "abalone = pd.read_csv(url, header=None, names=column_names)\n",
    "\n",
    "# Dropping the column \"Sex\" from dataframe\n",
    "abalone.drop(columns=[\"Sex\"], inplace=True)\n",
    "\n",
    "# Dropping the column \"Rings\"\n",
    "X = abalone.drop(columns=[\"Rings\"]).values\n",
    "\n",
    "# Storing its values as features.\n",
    "y = abalone[\"Rings\"].values\n",
    "\n",
    "# Splitting the data into training (70%) and test (30%) data sets.\n",
    "X_train, X_test, y_train, y_test = train_test_split(X, y, test_size=0.3, random_state=333)\n",
    "\n",
    "abalone.head()"
   ]
  },
  {
   "cell_type": "markdown",
   "metadata": {},
   "source": [
    "*kNN - helper function*"
   ]
  },
  {
   "cell_type": "code",
   "execution_count": 9,
   "metadata": {},
   "outputs": [],
   "source": [
    "def knn_predict(X_train, y_train, X_test_point, k):\n",
    "    \n",
    "    # Compute distances\n",
    "    distances = np.linalg.norm(X_train - X_test_point, axis=1)  \n",
    "    \n",
    "    # Get indices of k nearest neighbors\n",
    "    k_neighbors = np.argsort(distances)[:k]  \n",
    "    \n",
    "    # Get the corresponding labels\n",
    "    k_labels = y_train[k_neighbors]  \n",
    "    \n",
    "    # Ensure mode() output is correctly indexed\"\n",
    "    most_common = mode(k_labels, keepdims=True).mode[0]\n",
    "    \n",
    "    return most_common"
   ]
  },
  {
   "cell_type": "markdown",
   "metadata": {},
   "source": [
    "**Finding the Predicted age**"
   ]
  },
  {
   "cell_type": "code",
   "execution_count": 10,
   "metadata": {},
   "outputs": [
    {
     "name": "stdout",
     "output_type": "stream",
     "text": [
      "Predicted Age: 11\n"
     ]
    }
   ],
   "source": [
    "# Creating a new data sample.\n",
    "new_point = np.array([0.569552, 0.446407, 0.154437, 1.016849, 0.439051, 0.222526, 0.291208])\n",
    "\n",
    "#Passing the training datas along with new data sample and number of neighbors \n",
    "predicted_age = knn_predict(X_train, y_train, new_point, 3)\n",
    "\n",
    "print(\"Predicted Age:\", predicted_age)"
   ]
  },
  {
   "cell_type": "markdown",
   "metadata": {},
   "source": [
    "**Calculating the Mean Squared Error after testing the model on test data.**"
   ]
  },
  {
   "cell_type": "code",
   "execution_count": 11,
   "metadata": {},
   "outputs": [
    {
     "name": "stdout",
     "output_type": "stream",
     "text": [
      "Test Set MSE: 7.647527910685805\n"
     ]
    }
   ],
   "source": [
    "# Testing the model by passing the test data separated in above steps\n",
    "predicted_ages_test = np.array([knn_predict(X_train, y_train, X_test[i], 3) for i in range(len(X_test))])\n",
    "\n",
    "# Calculating the mean squared error of the predicted ages\n",
    "MSE = np.mean((predicted_ages_test - y_test) ** 2)\n",
    "\n",
    "print(\"Test Set MSE:\", MSE)"
   ]
  },
  {
   "cell_type": "markdown",
   "metadata": {},
   "source": [
    "**Calcualting MSE for a wide range of k's from 1 to 50, and storing it in the list `mse_values`**"
   ]
  },
  {
   "cell_type": "code",
   "execution_count": 12,
   "metadata": {},
   "outputs": [],
   "source": [
    "mse_values = []\n",
    "k_values = range(1, 51)\n",
    "for k in k_values:\n",
    "    predicted_ages_test = np.array([knn_predict(X_train, y_train, X_test[i], k) for i in range(len(X_test))])\n",
    "    mse_values.append(np.mean((predicted_ages_test - y_test) ** 2))\n"
   ]
  },
  {
   "cell_type": "markdown",
   "metadata": {},
   "source": [
    "**Plotting the MSE(mean sqaured error) against the k(number of neighbors) and its optimal value**"
   ]
  },
  {
   "cell_type": "code",
   "execution_count": 15,
   "metadata": {},
   "outputs": [
    {
     "data": {
      "image/png": "[encoded data removed]",
      "text/plain": [
       "<Figure size 1000x500 with 1 Axes>"
      ]
     },
     "metadata": {},
     "output_type": "display_data"
    },
    {
     "name": "stdout",
     "output_type": "stream",
     "text": [
      "The optimal number of neighbors k is  39 with MSE(Mean Squared Error) of  6.3740031897926634\n"
     ]
    }
   ],
   "source": [
    "# Compute line segments\n",
    "mse_values = np.array(mse_values)\n",
    "k_values = np.array(k_values)\n",
    "\n",
    "# Compute line segments\n",
    "points = np.array([k_values, mse_values]).T.reshape(-1, 1, 2)\n",
    "segments = np.concatenate([points[:-1], points[1:]], axis=1)\n",
    "\n",
    "\n",
    "cmap = sns.color_palette(\"husl\", as_cmap=True) \n",
    "colors = mse_values[:-1]  # Use MSE values to color segments\n",
    "norm = plt.Normalize(mse_values.min(), mse_values.max())  # Normalize color range\n",
    "\n",
    "# Create LineCollection\n",
    "lc = LineCollection(segments, cmap=cmap, norm=norm, linewidth=3)\n",
    "lc.set_array(colors)\n",
    "\n",
    "# Plot\n",
    "fig, ax = plt.subplots(figsize=(10, 5))\n",
    "ax.add_collection(lc)\n",
    "ax.scatter(k_values, mse_values, color='black', zorder=3, label=\"Data Points\")  # Emphasize points\n",
    "\n",
    "# Labels and Title\n",
    "ax.set_xlabel(\"k\", fontsize=14)\n",
    "ax.set_ylabel(\"MSE\", fontsize=14)\n",
    "ax.set_title(\"Tuning k for k-NN\", fontsize=16, fontweight='bold')\n",
    "\n",
    "\n",
    "# Mark the optimal k\n",
    "optimal_k = k_values[np.argmin(mse_values)]\n",
    "optimal_mse = min(mse_values)\n",
    "ax.scatter(optimal_k, optimal_mse, color='red', edgecolor='black', s=120, label=f\"Optimal k={optimal_k}\", zorder=4)\n",
    "ax.legend(fontsize=12)\n",
    "\n",
    "plt.show()\n",
    "\n",
    "print(\"The optimal number of neighbors k is \", optimal_k, \"with MSE(Mean Squared Error) of \", optimal_mse)"
   ]
  },
  {
   "cell_type": "code",
   "execution_count": null,
   "metadata": {},
   "outputs": [],
   "source": []
  }
 ],
 "metadata": {
  "kernelspec": {
   "display_name": "Python 3",
   "language": "python",
   "name": "python3"
  },
  "language_info": {
   "codemirror_mode": {
    "name": "ipython",
    "version": 3
   },
   "file_extension": ".py",
   "mimetype": "text/x-python",
   "name": "python",
   "nbconvert_exporter": "python",
   "pygments_lexer": "ipython3",
   "version": "3.13.1"
  }
 },
 "nbformat": 4,
 "nbformat_minor": 2
}
